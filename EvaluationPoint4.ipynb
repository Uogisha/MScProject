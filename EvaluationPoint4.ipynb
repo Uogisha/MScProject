{
 "cells": [
  {
   "cell_type": "markdown",
   "metadata": {},
   "source": [
    "Point4 : At central location;ALL data,ONE regression but with selected features"
   ]
  },
  {
   "cell_type": "code",
   "execution_count": 1,
   "metadata": {
    "collapsed": true
   },
   "outputs": [],
   "source": [
    "\n",
    "#code to access all files in a folder given the location of folder.\n",
    "#and concatenating all features(from all files) into one result dataframe\n",
    "import pandas as pd\n",
    "import numpy as np\n",
    "import os\n",
    "#rootdir = 'C:/Users/sid/Desktop/test' \n",
    "\n",
    "class central():\n",
    "    def __init__(self, rootdir):\n",
    "        self.rootdir = rootdir\n",
    "\n",
    "#rootdir = 'Data_isha'\n",
    "    def all_files(self):\n",
    "        #rootdir = rootdir\n",
    "        file_array = []\n",
    "        for subdir, dirs, files in os.walk(self.rootdir):\n",
    "            for file in files:\n",
    "        #print(os.path.join(subdir, file)) to print names of all the csv files\n",
    "                file_array.append(os.path.join(subdir, file))\n",
    "#print(file_array)\n",
    "\n",
    "#files = [f for f in os.listdir('Data_isha') if os.path.isfile(f)]\n",
    "\n",
    "\n",
    "        merged_df = []\n",
    "        for files in file_array:\n",
    "            read_file = pd.read_csv(files)\n",
    "    #dropping columns:\n",
    "            read_file.drop(['Month','Day', 'Date','time_h','time_min', 'Year','dewpti.1', 'heatindexi',\n",
    "                    'tempi','windchillm','windchilli','wspdi', 'heatindexm',\n",
    "                    'wgusti','dewptm','pressurei','time_h', 'time_min','precip_ratei',\n",
    "                       'solarradiation','uv','Station','precip_totali'], axis=1, inplace=True)\n",
    "            merged_df.append(read_file)\n",
    "        result = pd.concat(merged_df)\n",
    "        return result\n",
    "\n",
    "\n"
   ]
  },
  {
   "cell_type": "markdown",
   "metadata": {},
   "source": [
    "Creating instance of the \"central\" location"
   ]
  },
  {
   "cell_type": "code",
   "execution_count": 4,
   "metadata": {
    "collapsed": true
   },
   "outputs": [],
   "source": [
    "v = central('Data_isha')\n",
    "df = v.all_files()\n"
   ]
  },
  {
   "cell_type": "markdown",
   "metadata": {},
   "source": [
    "Offline feature selection with RFE implemented "
   ]
  },
  {
   "cell_type": "code",
   "execution_count": 43,
   "metadata": {},
   "outputs": [
    {
     "name": "stdout",
     "output_type": "stream",
     "text": [
      "Num Features: 3\n",
      "Selected Features: [ True False  True False  True False False]\n",
      "Feature Ranking: [1 3 1 2 1 5 4]\n"
     ]
    }
   ],
   "source": [
    "# Feature Extraction with RFE\n",
    "\n",
    "from sklearn.model_selection import train_test_split\n",
    "from sklearn import datasets, linear_model\n",
    "from sklearn.metrics import mean_squared_error, r2_score, mean_absolute_error\n",
    "from math import sqrt\n",
    "from sklearn.preprocessing import LabelEncoder\n",
    "import statsmodels.formula.api as sm\n",
    "import random\n",
    "from pandas import read_csv\n",
    "from sklearn.feature_selection import RFE\n",
    "from sklearn.linear_model import LogisticRegression\n",
    "\n",
    "encoder = LabelEncoder()\n",
    "df['wdire'] = encoder.fit_transform(df['wdire'])\n",
    "# load data\n",
    "names = ['dewpti', 'precip_totalm', 'wspdm','wgustm','precip_ratem','pressurem','hum','wdire','tempm']\n",
    "#dataframe = read_csv(url, names=names)\n",
    "df1 = pd.DataFrame(df, columns = names)\n",
    "array1 = df1.values\n",
    "X = array1[:,0:7]\n",
    "Y = array1[:,7]\n",
    "X_train, X_test, y_train, y_test = train_test_split(X, Y, test_size=0.55, random_state=42)\n",
    "# feature extraction\n",
    "model = LogisticRegression()\n",
    "rfe = RFE(model, 3)\n",
    "fit = rfe.fit(X_train, y_train)\n",
    "print(\"Num Features: %d\") % fit.n_features_\n",
    "print(\"Selected Features: %s\") % fit.support_\n",
    "print(\"Feature Ranking: %s\") % fit.ranking_"
   ]
  },
  {
   "cell_type": "markdown",
   "metadata": {},
   "source": [
    "A Dataframe with selected features created"
   ]
  },
  {
   "cell_type": "code",
   "execution_count": 55,
   "metadata": {
    "collapsed": true
   },
   "outputs": [],
   "source": [
    "\n",
    "mask = fit.support_ #list of booleans\n",
    "new_features = [] # The list of your K best features\n",
    "\n",
    "for bool, feature in zip(mask, names):\n",
    "    if bool:\n",
    "        new_features.append(feature)\n",
    "\n",
    "dataframe = pd.DataFrame(df1, columns=new_features)\n"
   ]
  },
  {
   "cell_type": "markdown",
   "metadata": {},
   "source": [
    "Evaluation of the data for approach number 4:"
   ]
  },
  {
   "cell_type": "code",
   "execution_count": 58,
   "metadata": {},
   "outputs": [
    {
     "name": "stdout",
     "output_type": "stream",
     "text": [
      "('Iteration:', 1)\n",
      "('test size', 0.90000000000000002)\n",
      "('Coefficients: \\n', array([ 0.39309975,  0.05932606, -0.22191968]))\n",
      "('Mean absolute error:', 1.2911900814356028)\n",
      "Mean squared error: 2.98\n",
      "Root Mean squared error: 1.73\n",
      "Variance score: 0.75\n",
      "('Iteration:', 2)\n",
      "('test size', 0.70000000000000007)\n",
      "('Coefficients: \\n', array([ 0.39210548,  0.06043073, -0.30448288]))\n",
      "('Mean absolute error:', 1.28854727004307)\n",
      "Mean squared error: 2.97\n",
      "Root Mean squared error: 1.72\n",
      "Variance score: 0.75\n",
      "('Iteration:', 3)\n",
      "('test size', 0.59999999999999998)\n",
      "('Coefficients: \\n', array([ 0.39146011,  0.06049298, -0.31380024]))\n",
      "('Mean absolute error:', 1.2884688483026074)\n",
      "Mean squared error: 2.96\n",
      "Root Mean squared error: 1.72\n",
      "Variance score: 0.75\n",
      "('Iteration:', 4)\n",
      "('test size', 0.20000000000000001)\n",
      "('Coefficients: \\n', array([ 0.39160095,  0.0600959 , -0.30883656]))\n",
      "('Mean absolute error:', 1.291227936431989)\n",
      "Mean squared error: 2.98\n",
      "Root Mean squared error: 1.73\n",
      "Variance score: 0.75\n",
      "('Iteration:', 5)\n",
      "('test size', 0.40000000000000002)\n",
      "('Coefficients: \\n', array([ 0.39143846,  0.05996557, -0.29109814]))\n",
      "('Mean absolute error:', 1.287858174794658)\n",
      "Mean squared error: 2.97\n",
      "Root Mean squared error: 1.72\n",
      "Variance score: 0.75\n"
     ]
    }
   ],
   "source": [
    "from sklearn.model_selection import train_test_split\n",
    "from sklearn import datasets, linear_model\n",
    "from sklearn.metrics import mean_squared_error, r2_score, mean_absolute_error\n",
    "from math import sqrt\n",
    "from sklearn.preprocessing import LabelEncoder\n",
    "import statsmodels.formula.api as sm\n",
    "import random\n",
    "\n",
    "encoder = LabelEncoder()\n",
    "#df['wdire'] = encoder.fit_transform(df['wdire'])\n",
    "X = dataframe\n",
    "y = df1['tempm']\n",
    "\n",
    "\n",
    "c=np.arange(0.1, 1.0, 0.1)\n",
    "a = random.sample(list(c), 6)\n",
    "for i in range(1,6):\n",
    "    print(\"Iteration:\",i)\n",
    "    #X = df1\n",
    "    #y = result['tempm'] #commented to see results from above code\n",
    "    #ran = round(random.uniform(0,0.9), 1)\n",
    "    #print(\"random number\", ran)\n",
    "    print(\"test size\",a[i])\n",
    "    X_train, X_test, y_train, y_test = train_test_split(X, y, test_size=a[i], random_state=42)\n",
    "\n",
    "# Create linear regression object\n",
    "    regr = linear_model.LinearRegression()\n",
    "\n",
    "# Train the model using the training sets\n",
    "    regr.fit(X_train, y_train)\n",
    "\n",
    "# Make predictions using the testing set\n",
    "    y_pred = regr.predict(X_test)\n",
    "\n",
    "\n",
    "# The coefficients\n",
    "    print('Coefficients: \\n', regr.coef_)\n",
    "    print(\"Mean absolute error:\", mean_absolute_error(y_test, y_pred)\n",
    " )\n",
    "# The mean squared error\n",
    "    print(\"Mean squared error: %.2f\"\n",
    "      % mean_squared_error(y_test,y_pred))\n",
    "\n",
    "    print(\"Root Mean squared error: %.2f\"\n",
    "      % sqrt(mean_squared_error(y_test,y_pred)))\n",
    "\n",
    "# Explained variance score: 1 is perfect prediction\n",
    "    print('Variance score: %.2f' % r2_score(y_test, y_pred))\n",
    "\n"
   ]
  },
  {
   "cell_type": "code",
   "execution_count": null,
   "metadata": {
    "collapsed": true
   },
   "outputs": [],
   "source": []
  }
 ],
 "metadata": {
  "kernelspec": {
   "display_name": "Python 2",
   "language": "python",
   "name": "python2"
  },
  "language_info": {
   "codemirror_mode": {
    "name": "ipython",
    "version": 2
   },
   "file_extension": ".py",
   "mimetype": "text/x-python",
   "name": "python",
   "nbconvert_exporter": "python",
   "pygments_lexer": "ipython2",
   "version": "2.7.13"
  }
 },
 "nbformat": 4,
 "nbformat_minor": 2
}
