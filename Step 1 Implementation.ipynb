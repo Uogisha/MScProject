{
 "cells": [
  {
   "cell_type": "code",
   "execution_count": 6,
   "metadata": {
    "collapsed": true
   },
   "outputs": [],
   "source": [
    "#Function for accessing csv files and reading them \n",
    "import pandas as pd\n",
    "import numpy as np\n",
    "\n",
    "def csvread(file):\n",
    "    print(file)\n",
    "    y = pd.read_csv(file)\n",
    "    return y #y is a datframe\n"
   ]
  },
  {
   "cell_type": "code",
   "execution_count": 126,
   "metadata": {},
   "outputs": [
    {
     "name": "stdout",
     "output_type": "stream",
     "text": [
      "Data_isha\\IABERDEE25_final.csv\n",
      "tempm       1.000000\n",
      "tempi       0.999955\n",
      "dewpti      0.898105\n",
      "dewpti.1    0.898105\n",
      "dewptm      0.898049\n",
      "wgustm      0.273034\n",
      "wgusti      0.272950\n",
      "Day         0.218386\n",
      "wspdi       0.192421\n",
      "wspdm       0.192134\n",
      "Name: tempm, dtype: float64 \n",
      "\n",
      "Year             -0.177809\n",
      "heatindexm             NaN\n",
      "heatindexi             NaN\n",
      "solarradiation         NaN\n",
      "uv                     NaN\n",
      "Name: tempm, dtype: float64\n"
     ]
    }
   ],
   "source": [
    "df = csvread('Data_isha\\IABERDEE25_final.csv') \n",
    "#print(df)\n",
    "numeric_features = df.select_dtypes(include=[np.number])\n",
    "\n",
    "\n",
    "corr =numeric_features.corr()\n",
    "print(corr['tempm'].sort_values(ascending=False)[:10], '\\n')\n",
    "print(corr['tempm'].sort_values(ascending=False)[-5:])\n"
   ]
  },
  {
   "cell_type": "code",
   "execution_count": 127,
   "metadata": {},
   "outputs": [
    {
     "name": "stderr",
     "output_type": "stream",
     "text": [
      "C:\\Users\\Neeraj\\Anaconda3\\lib\\site-packages\\statsmodels\\compat\\pandas.py:56: FutureWarning: The pandas.core.datetools module is deprecated and will be removed in a future version. Please use the pandas.tseries module instead.\n",
      "  from pandas.core import datetools\n"
     ]
    },
    {
     "name": "stdout",
     "output_type": "stream",
     "text": [
      "                            OLS Regression Results                            \n",
      "==============================================================================\n",
      "Dep. Variable:                  tempm   R-squared:                       0.997\n",
      "Model:                            OLS   Adj. R-squared:                  0.997\n",
      "Method:                 Least Squares   F-statistic:                 3.756e+06\n",
      "Date:                Tue, 17 Jul 2018   Prob (F-statistic):               0.00\n",
      "Time:                        16:35:54   Log-Likelihood:                 13340.\n",
      "No. Observations:               30984   AIC:                        -2.667e+04\n",
      "Df Residuals:                   30980   BIC:                        -2.664e+04\n",
      "Df Model:                           3                                         \n",
      "Covariance Type:            nonrobust                                         \n",
      "==============================================================================\n",
      "                 coef    std err          t      P>|t|      [0.025      0.975]\n",
      "------------------------------------------------------------------------------\n",
      "x1             0.2620      0.009     30.358      0.000       0.245       0.279\n",
      "x2             0.2620      0.009     30.358      0.000       0.245       0.279\n",
      "x3             0.0748      0.031      2.407      0.016       0.014       0.136\n",
      "x4            -0.1737      0.000  -1467.824      0.000      -0.174      -0.174\n",
      "const          0.3431      0.552      0.621      0.535      -0.740       1.426\n",
      "==============================================================================\n",
      "Omnibus:                    90170.558   Durbin-Watson:                   0.878\n",
      "Prob(Omnibus):                  0.000   Jarque-Bera (JB):      26449786318.154\n",
      "Skew:                         -39.598   Prob(JB):                         0.00\n",
      "Kurtosis:                    4528.655   Cond. No.                     1.15e+16\n",
      "==============================================================================\n",
      "\n",
      "Warnings:\n",
      "[1] Standard Errors assume that the covariance matrix of the errors is correctly specified.\n",
      "[2] The smallest eigenvalue is 2.31e-24. This might indicate that there are\n",
      "strong multicollinearity problems or that the design matrix is singular.\n"
     ]
    }
   ],
   "source": [
    "#A trial way of extracting relevant features\n",
    "import numpy as np\n",
    "import statsmodels.api as sm\n",
    "\n",
    "y = df['tempm']\n",
    "#features chosen such that those who have high correlation with the target feature\n",
    "\n",
    "x = [\n",
    "     df['hum'],\n",
    "     df['dewptm'],\n",
    "     df['dewpti'],\n",
    "     df['dewpti.1'],\n",
    "     ]\n",
    "def reg_m(y, x):\n",
    "    ones = np.ones(len(x[0]))\n",
    "    X = sm.add_constant(np.column_stack((x[0], ones)))\n",
    "    for ele in x[1:]:\n",
    "        X = sm.add_constant(np.column_stack((ele, X)))\n",
    "    results = sm.OLS(y, X).fit()\n",
    "    return results\n",
    "\n",
    "\n",
    "print(reg_m(y, x).summary())\n"
   ]
  },
  {
   "cell_type": "code",
   "execution_count": 128,
   "metadata": {},
   "outputs": [
    {
     "name": "stdout",
     "output_type": "stream",
     "text": [
      "(30984, 33)\n",
      "(30984,)\n",
      "(30984, 20)\n",
      "Intercept   -8.540737e-08\n",
      "x[0]         5.543929e-01\n",
      "x[1]         3.846579e-02\n",
      "x[2]        -1.010054e-02\n",
      "x[3]        -1.010054e-02\n",
      "x[4]        -3.814039e-04\n",
      "x[5]         2.512089e-03\n",
      "x[6]        -3.790046e-03\n",
      "x[7]         5.110744e-03\n",
      "x[8]        -8.303480e-03\n",
      "x[9]        -3.912563e-06\n",
      "x[10]        4.009055e-03\n",
      "x[11]       -1.349255e-01\n",
      "x[12]        8.934668e-05\n",
      "x[13]       -8.737229e-05\n",
      "x[14]        8.539882e-04\n",
      "x[15]        8.539882e-04\n",
      "x[16]        3.282487e-01\n",
      "x[17]       -1.346269e-02\n",
      "x[18]        7.476757e-03\n",
      "x[19]       -1.881109e-01\n",
      "dtype: float64\n",
      "[-8.5407366308824873e-08, 0.55439292256574846, 0.038465794491753358, -0.010100536117375492, -0.010100536117381487, -0.00038140386843804608, 0.0025120891403735968, -0.0037900462756992326, 0.0051107443110612882, -0.0083034804539252605, -3.912562594989271e-06, 0.0040090546938329474, -0.13492552803509739, 8.9346681497515235e-05, -8.7372285525688653e-05, 0.00085398817845823189, 0.00085398818072643292, 0.32824865305689777, -0.013462691857960896, 0.0074767567538778223, -0.18811091253769519]\n"
     ]
    },
    {
     "name": "stderr",
     "output_type": "stream",
     "text": [
      "C:\\Users\\Neeraj\\Anaconda3\\lib\\site-packages\\ipykernel_launcher.py:18: DeprecationWarning: \n",
      ".ix is deprecated. Please use\n",
      ".loc for label based indexing or\n",
      ".iloc for positional indexing\n",
      "\n",
      "See the documentation here:\n",
      "http://pandas.pydata.org/pandas-docs/stable/indexing.html#deprecate_ix\n",
      "C:\\Users\\Neeraj\\Anaconda3\\lib\\site-packages\\ipykernel_launcher.py:19: DeprecationWarning: \n",
      ".ix is deprecated. Please use\n",
      ".loc for label based indexing or\n",
      ".iloc for positional indexing\n",
      "\n",
      "See the documentation here:\n",
      "http://pandas.pydata.org/pandas-docs/stable/indexing.html#deprecate_ix\n"
     ]
    }
   ],
   "source": [
    "import statsmodels.formula.api as sm\n",
    "import collections\n",
    " \n",
    "sliding_window_values_sens = collections.deque(maxlen=576)\n",
    "#data = list(slidingwindow)\n",
    "#for i in range(0,len(df)):\n",
    "window_data=df\n",
    "#window_data = sliding_window_values_sens.append(df)\n",
    "#window_data.columns= [self.x1,self.x2,self.y]\n",
    "window_data.columns= df.columns.values #just commentted to apply deque function\n",
    "##self.concentrator.setLastSlidingWindow(window_data,self.sensorid)\n",
    "\n",
    "#model fitting\n",
    "####result = sm.ols(formula=self.query, data=window_data).fit()\n",
    "y=df['tempm'] #giving all rows \n",
    "x=df[['tempi','dewptm','dewpti','dewpti.1','hum','wspdm','wspdi','wgustm','wgusti','wdird','pressurem','pressurei','windchillm', 'windchilli','heatindexm','heatindexi','precip_ratei','precip_ratem','precip_totalm','precip_totali']]\n",
    "      \n",
    "y.ix[576:]\n",
    "x.ix[576:]\n",
    "print(window_data.shape)\n",
    "print(y.shape)\n",
    "print(x.shape)\n",
    "#result = sm.ols(formula='tempm ~ dewpti + hum + dewptm ', data=window_data).fit()  #used some features w\n",
    "result = sm.ols(formula='y~x', data=window_data).fit()\n",
    "#model parameters\n",
    "print(result.params)\n",
    "param_sensor=list(result.params)\n",
    "print(param_sensor)\n",
    "#localpred_sens=param_sensor[0]+values[0]*param_sensor[1]+values[1]*param_sensor[2]\n",
    "#actual_value=values[2]"
   ]
  },
  {
   "cell_type": "code",
   "execution_count": 8,
   "metadata": {},
   "outputs": [
    {
     "name": "stdout",
     "output_type": "stream",
     "text": [
      "(576, 33)\n",
      "(576,)\n",
      "(576, 20)\n",
      "Intercept   -9.056944e-08\n",
      "x[0]         5.538397e-01\n",
      "x[1]        -2.484837e-02\n",
      "x[2]         7.985741e-03\n",
      "x[3]         7.985741e-03\n",
      "x[4]        -7.198359e-06\n",
      "x[5]        -1.888348e-01\n",
      "x[6]         3.012899e-01\n",
      "x[7]        -6.479458e-02\n",
      "x[8]         1.048194e-01\n",
      "x[9]         3.746202e-06\n",
      "x[10]        4.868086e-02\n",
      "x[11]       -1.652628e+00\n",
      "x[12]       -5.674762e-04\n",
      "x[13]        5.610327e-04\n",
      "x[14]        9.056039e-04\n",
      "x[15]        9.056032e-04\n",
      "x[16]        0.000000e+00\n",
      "x[17]        0.000000e+00\n",
      "x[18]       -8.546227e-02\n",
      "x[19]       -2.848742e-03\n",
      "dtype: float64\n"
     ]
    }
   ],
   "source": [
    "#Was having problems with sliding window code used tail to get last 576 elements\n",
    "#to get last 576 measurements and applying feature selection on that.\n",
    "import statsmodels.formula.api as sm\n",
    "\n",
    "df1=df.tail(576)\n",
    "print(df1.shape)\n",
    "y=df1['tempm'] #giving all rows \n",
    "x=df1[['tempi','dewptm','dewpti','dewpti.1','hum','wspdm','wspdi','wgustm','wgusti','wdird','pressurem','pressurei','windchillm', 'windchilli','heatindexm','heatindexi','precip_ratei','precip_ratem','precip_totalm','precip_totali']]\n",
    "#y.tail(576)\n",
    "#x.tail(576)\n",
    "print(y.shape)\n",
    "print(x.shape)\n",
    "result = sm.ols(formula='y~x', data=df1).fit()\n",
    "print(result.params)\n"
   ]
  },
  {
   "cell_type": "code",
   "execution_count": 132,
   "metadata": {
    "collapsed": true
   },
   "outputs": [],
   "source": [
    "#dropping columns:\n",
    "df.drop(['Month', 'Date', 'Year', 'time_h', 'time_min', 'wdire', 'solarradiation','uv','Station'], axis=1, inplace=True)\n"
   ]
  },
  {
   "cell_type": "code",
   "execution_count": 135,
   "metadata": {},
   "outputs": [],
   "source": [
    "##Is this the way to use sliding window?\n",
    "import statsmodels.formula.api as sm\n",
    "import collections\n",
    " \n",
    "sliding_window_values_sens = collections.deque(maxlen=576)\n",
    "for rows in df.iterrows():\n",
    "    sliding_window_values_sens.append(rows) #to add last 576 measurements\n",
    "#for row in df.itertuples(index=True, name='Pandas'):\n",
    "   ### sliding_window_values_sens.append(row) #to add last 576 measurements\n",
    "#print(sliding_window_values_sens)"
   ]
  },
  {
   "cell_type": "code",
   "execution_count": 136,
   "metadata": {},
   "outputs": [
    {
     "name": "stdout",
     "output_type": "stream",
     "text": [
      "(576, 2)\n"
     ]
    },
    {
     "ename": "KeyError",
     "evalue": "'tempm'",
     "output_type": "error",
     "traceback": [
      "\u001b[1;31m---------------------------------------------------------------------------\u001b[0m",
      "\u001b[1;31mTypeError\u001b[0m                                 Traceback (most recent call last)",
      "\u001b[1;32mpandas\\_libs\\index.pyx\u001b[0m in \u001b[0;36mpandas._libs.index.IndexEngine.get_loc (pandas\\_libs\\index.c:5085)\u001b[1;34m()\u001b[0m\n",
      "\u001b[1;32mpandas\\_libs\\hashtable_class_helper.pxi\u001b[0m in \u001b[0;36mpandas._libs.hashtable.Int64HashTable.get_item (pandas\\_libs\\hashtable.c:13892)\u001b[1;34m()\u001b[0m\n",
      "\u001b[1;31mTypeError\u001b[0m: an integer is required",
      "\nDuring handling of the above exception, another exception occurred:\n",
      "\u001b[1;31mKeyError\u001b[0m                                  Traceback (most recent call last)",
      "\u001b[1;32mC:\\Users\\Neeraj\\Anaconda3\\lib\\site-packages\\pandas\\core\\indexes\\base.py\u001b[0m in \u001b[0;36mget_loc\u001b[1;34m(self, key, method, tolerance)\u001b[0m\n\u001b[0;32m   2392\u001b[0m             \u001b[1;32mtry\u001b[0m\u001b[1;33m:\u001b[0m\u001b[1;33m\u001b[0m\u001b[0m\n\u001b[1;32m-> 2393\u001b[1;33m                 \u001b[1;32mreturn\u001b[0m \u001b[0mself\u001b[0m\u001b[1;33m.\u001b[0m\u001b[0m_engine\u001b[0m\u001b[1;33m.\u001b[0m\u001b[0mget_loc\u001b[0m\u001b[1;33m(\u001b[0m\u001b[0mkey\u001b[0m\u001b[1;33m)\u001b[0m\u001b[1;33m\u001b[0m\u001b[0m\n\u001b[0m\u001b[0;32m   2394\u001b[0m             \u001b[1;32mexcept\u001b[0m \u001b[0mKeyError\u001b[0m\u001b[1;33m:\u001b[0m\u001b[1;33m\u001b[0m\u001b[0m\n",
      "\u001b[1;32mpandas\\_libs\\index.pyx\u001b[0m in \u001b[0;36mpandas._libs.index.IndexEngine.get_loc (pandas\\_libs\\index.c:5239)\u001b[1;34m()\u001b[0m\n",
      "\u001b[1;32mpandas\\_libs\\index.pyx\u001b[0m in \u001b[0;36mpandas._libs.index.IndexEngine.get_loc (pandas\\_libs\\index.c:5169)\u001b[1;34m()\u001b[0m\n",
      "\u001b[1;31mKeyError\u001b[0m: 'tempm'",
      "\nDuring handling of the above exception, another exception occurred:\n",
      "\u001b[1;31mTypeError\u001b[0m                                 Traceback (most recent call last)",
      "\u001b[1;32mpandas\\_libs\\index.pyx\u001b[0m in \u001b[0;36mpandas._libs.index.IndexEngine.get_loc (pandas\\_libs\\index.c:5085)\u001b[1;34m()\u001b[0m\n",
      "\u001b[1;32mpandas\\_libs\\hashtable_class_helper.pxi\u001b[0m in \u001b[0;36mpandas._libs.hashtable.Int64HashTable.get_item (pandas\\_libs\\hashtable.c:13892)\u001b[1;34m()\u001b[0m\n",
      "\u001b[1;31mTypeError\u001b[0m: an integer is required",
      "\nDuring handling of the above exception, another exception occurred:\n",
      "\u001b[1;31mKeyError\u001b[0m                                  Traceback (most recent call last)",
      "\u001b[1;32m<ipython-input-136-2c5907ac0df0>\u001b[0m in \u001b[0;36m<module>\u001b[1;34m()\u001b[0m\n\u001b[0;32m     20\u001b[0m \u001b[1;33m\u001b[0m\u001b[0m\n\u001b[0;32m     21\u001b[0m \u001b[1;31m#print(window_data)  Here : getting just 2 columns the month number and index\u001b[0m\u001b[1;33m\u001b[0m\u001b[1;33m\u001b[0m\u001b[0m\n\u001b[1;32m---> 22\u001b[1;33m \u001b[0my\u001b[0m\u001b[1;33m=\u001b[0m\u001b[0mwindow_data\u001b[0m\u001b[1;33m[\u001b[0m\u001b[1;34m'tempm'\u001b[0m\u001b[1;33m]\u001b[0m\u001b[1;33m\u001b[0m\u001b[0m\n\u001b[0m\u001b[0;32m     23\u001b[0m \u001b[0mx\u001b[0m\u001b[1;33m=\u001b[0m\u001b[0mwindow_data\u001b[0m\u001b[1;33m[\u001b[0m\u001b[1;33m[\u001b[0m\u001b[1;34m'dewptm'\u001b[0m\u001b[1;33m,\u001b[0m\u001b[1;34m'dewpti'\u001b[0m\u001b[1;33m,\u001b[0m\u001b[1;34m'hum'\u001b[0m\u001b[1;33m,\u001b[0m\u001b[1;34m'wspdm'\u001b[0m\u001b[1;33m,\u001b[0m\u001b[1;34m'wspdi'\u001b[0m\u001b[1;33m,\u001b[0m\u001b[1;34m'wgustm'\u001b[0m\u001b[1;33m,\u001b[0m\u001b[1;34m'wgusti'\u001b[0m\u001b[1;33m,\u001b[0m\u001b[1;34m'wdird'\u001b[0m\u001b[1;33m,\u001b[0m\u001b[1;34m'pressurem'\u001b[0m\u001b[1;33m,\u001b[0m\u001b[1;34m'pressurei'\u001b[0m\u001b[1;33m,\u001b[0m\u001b[1;34m'windchillm'\u001b[0m\u001b[1;33m,\u001b[0m \u001b[1;34m'windchilli'\u001b[0m\u001b[1;33m,\u001b[0m\u001b[1;34m'heatindexm'\u001b[0m\u001b[1;33m,\u001b[0m\u001b[1;34m'heatindexi'\u001b[0m\u001b[1;33m,\u001b[0m\u001b[1;34m'precip_ratei'\u001b[0m\u001b[1;33m,\u001b[0m\u001b[1;34m'precip_ratem'\u001b[0m\u001b[1;33m,\u001b[0m\u001b[1;34m'precip_totalm'\u001b[0m\u001b[1;33m,\u001b[0m\u001b[1;34m'precip_totali'\u001b[0m\u001b[1;33m]\u001b[0m\u001b[1;33m]\u001b[0m\u001b[1;33m\u001b[0m\u001b[0m\n\u001b[0;32m     24\u001b[0m \u001b[1;33m\u001b[0m\u001b[0m\n",
      "\u001b[1;32mC:\\Users\\Neeraj\\Anaconda3\\lib\\site-packages\\pandas\\core\\frame.py\u001b[0m in \u001b[0;36m__getitem__\u001b[1;34m(self, key)\u001b[0m\n\u001b[0;32m   2060\u001b[0m             \u001b[1;32mreturn\u001b[0m \u001b[0mself\u001b[0m\u001b[1;33m.\u001b[0m\u001b[0m_getitem_multilevel\u001b[0m\u001b[1;33m(\u001b[0m\u001b[0mkey\u001b[0m\u001b[1;33m)\u001b[0m\u001b[1;33m\u001b[0m\u001b[0m\n\u001b[0;32m   2061\u001b[0m         \u001b[1;32melse\u001b[0m\u001b[1;33m:\u001b[0m\u001b[1;33m\u001b[0m\u001b[0m\n\u001b[1;32m-> 2062\u001b[1;33m             \u001b[1;32mreturn\u001b[0m \u001b[0mself\u001b[0m\u001b[1;33m.\u001b[0m\u001b[0m_getitem_column\u001b[0m\u001b[1;33m(\u001b[0m\u001b[0mkey\u001b[0m\u001b[1;33m)\u001b[0m\u001b[1;33m\u001b[0m\u001b[0m\n\u001b[0m\u001b[0;32m   2063\u001b[0m \u001b[1;33m\u001b[0m\u001b[0m\n\u001b[0;32m   2064\u001b[0m     \u001b[1;32mdef\u001b[0m \u001b[0m_getitem_column\u001b[0m\u001b[1;33m(\u001b[0m\u001b[0mself\u001b[0m\u001b[1;33m,\u001b[0m \u001b[0mkey\u001b[0m\u001b[1;33m)\u001b[0m\u001b[1;33m:\u001b[0m\u001b[1;33m\u001b[0m\u001b[0m\n",
      "\u001b[1;32mC:\\Users\\Neeraj\\Anaconda3\\lib\\site-packages\\pandas\\core\\frame.py\u001b[0m in \u001b[0;36m_getitem_column\u001b[1;34m(self, key)\u001b[0m\n\u001b[0;32m   2067\u001b[0m         \u001b[1;31m# get column\u001b[0m\u001b[1;33m\u001b[0m\u001b[1;33m\u001b[0m\u001b[0m\n\u001b[0;32m   2068\u001b[0m         \u001b[1;32mif\u001b[0m \u001b[0mself\u001b[0m\u001b[1;33m.\u001b[0m\u001b[0mcolumns\u001b[0m\u001b[1;33m.\u001b[0m\u001b[0mis_unique\u001b[0m\u001b[1;33m:\u001b[0m\u001b[1;33m\u001b[0m\u001b[0m\n\u001b[1;32m-> 2069\u001b[1;33m             \u001b[1;32mreturn\u001b[0m \u001b[0mself\u001b[0m\u001b[1;33m.\u001b[0m\u001b[0m_get_item_cache\u001b[0m\u001b[1;33m(\u001b[0m\u001b[0mkey\u001b[0m\u001b[1;33m)\u001b[0m\u001b[1;33m\u001b[0m\u001b[0m\n\u001b[0m\u001b[0;32m   2070\u001b[0m \u001b[1;33m\u001b[0m\u001b[0m\n\u001b[0;32m   2071\u001b[0m         \u001b[1;31m# duplicate columns & possible reduce dimensionality\u001b[0m\u001b[1;33m\u001b[0m\u001b[1;33m\u001b[0m\u001b[0m\n",
      "\u001b[1;32mC:\\Users\\Neeraj\\Anaconda3\\lib\\site-packages\\pandas\\core\\generic.py\u001b[0m in \u001b[0;36m_get_item_cache\u001b[1;34m(self, item)\u001b[0m\n\u001b[0;32m   1532\u001b[0m         \u001b[0mres\u001b[0m \u001b[1;33m=\u001b[0m \u001b[0mcache\u001b[0m\u001b[1;33m.\u001b[0m\u001b[0mget\u001b[0m\u001b[1;33m(\u001b[0m\u001b[0mitem\u001b[0m\u001b[1;33m)\u001b[0m\u001b[1;33m\u001b[0m\u001b[0m\n\u001b[0;32m   1533\u001b[0m         \u001b[1;32mif\u001b[0m \u001b[0mres\u001b[0m \u001b[1;32mis\u001b[0m \u001b[1;32mNone\u001b[0m\u001b[1;33m:\u001b[0m\u001b[1;33m\u001b[0m\u001b[0m\n\u001b[1;32m-> 1534\u001b[1;33m             \u001b[0mvalues\u001b[0m \u001b[1;33m=\u001b[0m \u001b[0mself\u001b[0m\u001b[1;33m.\u001b[0m\u001b[0m_data\u001b[0m\u001b[1;33m.\u001b[0m\u001b[0mget\u001b[0m\u001b[1;33m(\u001b[0m\u001b[0mitem\u001b[0m\u001b[1;33m)\u001b[0m\u001b[1;33m\u001b[0m\u001b[0m\n\u001b[0m\u001b[0;32m   1535\u001b[0m             \u001b[0mres\u001b[0m \u001b[1;33m=\u001b[0m \u001b[0mself\u001b[0m\u001b[1;33m.\u001b[0m\u001b[0m_box_item_values\u001b[0m\u001b[1;33m(\u001b[0m\u001b[0mitem\u001b[0m\u001b[1;33m,\u001b[0m \u001b[0mvalues\u001b[0m\u001b[1;33m)\u001b[0m\u001b[1;33m\u001b[0m\u001b[0m\n\u001b[0;32m   1536\u001b[0m             \u001b[0mcache\u001b[0m\u001b[1;33m[\u001b[0m\u001b[0mitem\u001b[0m\u001b[1;33m]\u001b[0m \u001b[1;33m=\u001b[0m \u001b[0mres\u001b[0m\u001b[1;33m\u001b[0m\u001b[0m\n",
      "\u001b[1;32mC:\\Users\\Neeraj\\Anaconda3\\lib\\site-packages\\pandas\\core\\internals.py\u001b[0m in \u001b[0;36mget\u001b[1;34m(self, item, fastpath)\u001b[0m\n\u001b[0;32m   3588\u001b[0m \u001b[1;33m\u001b[0m\u001b[0m\n\u001b[0;32m   3589\u001b[0m             \u001b[1;32mif\u001b[0m \u001b[1;32mnot\u001b[0m \u001b[0misnull\u001b[0m\u001b[1;33m(\u001b[0m\u001b[0mitem\u001b[0m\u001b[1;33m)\u001b[0m\u001b[1;33m:\u001b[0m\u001b[1;33m\u001b[0m\u001b[0m\n\u001b[1;32m-> 3590\u001b[1;33m                 \u001b[0mloc\u001b[0m \u001b[1;33m=\u001b[0m \u001b[0mself\u001b[0m\u001b[1;33m.\u001b[0m\u001b[0mitems\u001b[0m\u001b[1;33m.\u001b[0m\u001b[0mget_loc\u001b[0m\u001b[1;33m(\u001b[0m\u001b[0mitem\u001b[0m\u001b[1;33m)\u001b[0m\u001b[1;33m\u001b[0m\u001b[0m\n\u001b[0m\u001b[0;32m   3591\u001b[0m             \u001b[1;32melse\u001b[0m\u001b[1;33m:\u001b[0m\u001b[1;33m\u001b[0m\u001b[0m\n\u001b[0;32m   3592\u001b[0m                 \u001b[0mindexer\u001b[0m \u001b[1;33m=\u001b[0m \u001b[0mnp\u001b[0m\u001b[1;33m.\u001b[0m\u001b[0marange\u001b[0m\u001b[1;33m(\u001b[0m\u001b[0mlen\u001b[0m\u001b[1;33m(\u001b[0m\u001b[0mself\u001b[0m\u001b[1;33m.\u001b[0m\u001b[0mitems\u001b[0m\u001b[1;33m)\u001b[0m\u001b[1;33m)\u001b[0m\u001b[1;33m[\u001b[0m\u001b[0misnull\u001b[0m\u001b[1;33m(\u001b[0m\u001b[0mself\u001b[0m\u001b[1;33m.\u001b[0m\u001b[0mitems\u001b[0m\u001b[1;33m)\u001b[0m\u001b[1;33m]\u001b[0m\u001b[1;33m\u001b[0m\u001b[0m\n",
      "\u001b[1;32mC:\\Users\\Neeraj\\Anaconda3\\lib\\site-packages\\pandas\\core\\indexes\\base.py\u001b[0m in \u001b[0;36mget_loc\u001b[1;34m(self, key, method, tolerance)\u001b[0m\n\u001b[0;32m   2393\u001b[0m                 \u001b[1;32mreturn\u001b[0m \u001b[0mself\u001b[0m\u001b[1;33m.\u001b[0m\u001b[0m_engine\u001b[0m\u001b[1;33m.\u001b[0m\u001b[0mget_loc\u001b[0m\u001b[1;33m(\u001b[0m\u001b[0mkey\u001b[0m\u001b[1;33m)\u001b[0m\u001b[1;33m\u001b[0m\u001b[0m\n\u001b[0;32m   2394\u001b[0m             \u001b[1;32mexcept\u001b[0m \u001b[0mKeyError\u001b[0m\u001b[1;33m:\u001b[0m\u001b[1;33m\u001b[0m\u001b[0m\n\u001b[1;32m-> 2395\u001b[1;33m                 \u001b[1;32mreturn\u001b[0m \u001b[0mself\u001b[0m\u001b[1;33m.\u001b[0m\u001b[0m_engine\u001b[0m\u001b[1;33m.\u001b[0m\u001b[0mget_loc\u001b[0m\u001b[1;33m(\u001b[0m\u001b[0mself\u001b[0m\u001b[1;33m.\u001b[0m\u001b[0m_maybe_cast_indexer\u001b[0m\u001b[1;33m(\u001b[0m\u001b[0mkey\u001b[0m\u001b[1;33m)\u001b[0m\u001b[1;33m)\u001b[0m\u001b[1;33m\u001b[0m\u001b[0m\n\u001b[0m\u001b[0;32m   2396\u001b[0m \u001b[1;33m\u001b[0m\u001b[0m\n\u001b[0;32m   2397\u001b[0m         \u001b[0mindexer\u001b[0m \u001b[1;33m=\u001b[0m \u001b[0mself\u001b[0m\u001b[1;33m.\u001b[0m\u001b[0mget_indexer\u001b[0m\u001b[1;33m(\u001b[0m\u001b[1;33m[\u001b[0m\u001b[0mkey\u001b[0m\u001b[1;33m]\u001b[0m\u001b[1;33m,\u001b[0m \u001b[0mmethod\u001b[0m\u001b[1;33m=\u001b[0m\u001b[0mmethod\u001b[0m\u001b[1;33m,\u001b[0m \u001b[0mtolerance\u001b[0m\u001b[1;33m=\u001b[0m\u001b[0mtolerance\u001b[0m\u001b[1;33m)\u001b[0m\u001b[1;33m\u001b[0m\u001b[0m\n",
      "\u001b[1;32mpandas\\_libs\\index.pyx\u001b[0m in \u001b[0;36mpandas._libs.index.IndexEngine.get_loc (pandas\\_libs\\index.c:5239)\u001b[1;34m()\u001b[0m\n",
      "\u001b[1;32mpandas\\_libs\\index.pyx\u001b[0m in \u001b[0;36mpandas._libs.index.IndexEngine.get_loc (pandas\\_libs\\index.c:5169)\u001b[1;34m()\u001b[0m\n",
      "\u001b[1;31mKeyError\u001b[0m: 'tempm'"
     ]
    }
   ],
   "source": [
    "#probelms in sliding window code\n",
    "import statsmodels.formula.api as sm\n",
    "import collections\n",
    " \n",
    "sliding_window_values_sens = collections.deque(maxlen=576)\n",
    "for rows in df.iterrows():\n",
    "    sliding_window_values_sens.append(rows) #to add last 576 measurements\n",
    "#for row in df.itertuples(index=True, name='Pandas'):\n",
    "   ### sliding_window_values_sens.append(row) #to add last 576 measurements\n",
    "#list(sliding_window_values_sens)\n",
    "data = list(sliding_window_values_sens) #is not returning any value\n",
    "\n",
    "\n",
    "window_data = pd.DataFrame(np.array(sliding_window_values_sens))\n",
    "\n",
    "print(window_data.shape)\n",
    "\n",
    "#window_data.columns= [self.x1,self.x2,self.y]\n",
    "#self.concentrator.setLastSlidingWindow(window_data,self.sensorid)\n",
    "\n",
    "#print(window_data)  Here : getting just 2 columns the month number and index\n",
    "y=window_data['tempm']\n",
    "x=window_data[['dewptm','dewpti','hum','wspdm','wspdi','wgustm','wgusti','wdird','pressurem','pressurei','windchillm', 'windchilli','heatindexm','heatindexi','precip_ratei','precip_ratem','precip_totalm','precip_totali']]\n",
    "\n",
    "print(y.shape) \n",
    "#model fitting\n",
    "#formula = \"y ~ tempi+ tempm + dewptm + dewpti + hum +wspdm +wspdi + wgustm + wgusti + wdird + pressurei\"\n",
    "result = sm.ols(formula='y~x', data=window_data).fit()\n",
    "#results = sm.ols(df.a, sm.add_constant(df[list('bcd')])).fit()\n",
    "#model parameters\n",
    "param_sensor=list(result.params)\n",
    "print(param_sensor)\n",
    "#localpred_sens=param_sensor[0]+values[0]*param_sensor[1]+values[1]*param_sensor[2]\n",
    "#actual_value=values[2]"
   ]
  },
  {
   "cell_type": "code",
   "execution_count": null,
   "metadata": {
    "collapsed": true
   },
   "outputs": [],
   "source": [
    "# sleecting from first row till the end: df.loc['Dean':] instead od dean give index!\n",
    "#https://medium.com/dunder-data/selecting-subsets-of-data-in-pandas-6fcd0170be9c"
   ]
  },
  {
   "cell_type": "code",
   "execution_count": 11,
   "metadata": {},
   "outputs": [
    {
     "name": "stdout",
     "output_type": "stream",
     "text": [
      "The autoreload extension is already loaded. To reload it, use:\n",
      "  %reload_ext autoreload\n"
     ]
    }
   ],
   "source": [
    "%reload_ext autoreload\n",
    "%autoreload 2\n",
    "\n",
    "from stream_fast_weight import StreamFastWeight\n",
    "from gen_feat_weight import GenFeatWeight"
   ]
  },
  {
   "cell_type": "code",
   "execution_count": 99,
   "metadata": {},
   "outputs": [
    {
     "name": "stdout",
     "output_type": "stream",
     "text": [
      "(576, 24)\n",
      "(576,)\n",
      "(576, 20)\n",
      "Intercept   -9.056944e-08\n",
      "x[0]         5.538397e-01\n",
      "x[1]        -2.484837e-02\n",
      "x[2]         7.985741e-03\n",
      "x[3]         7.985741e-03\n",
      "x[4]        -7.198359e-06\n",
      "x[5]        -1.888348e-01\n",
      "x[6]         3.012899e-01\n",
      "x[7]        -6.479458e-02\n",
      "x[8]         1.048194e-01\n",
      "x[9]         3.746202e-06\n",
      "x[10]        4.868086e-02\n",
      "x[11]       -1.652628e+00\n",
      "x[12]       -5.674762e-04\n",
      "x[13]        5.610327e-04\n",
      "x[14]        9.056039e-04\n",
      "x[15]        9.056032e-04\n",
      "x[16]        0.000000e+00\n",
      "x[17]        0.000000e+00\n",
      "x[18]       -8.546227e-02\n",
      "x[19]       -2.848742e-03\n",
      "dtype: float64\n",
      "Predictions 2.899826388892343\n"
     ]
    },
    {
     "name": "stderr",
     "output_type": "stream",
     "text": [
      "C:\\Users\\Neeraj\\Anaconda3\\lib\\site-packages\\statsmodels\\base\\model.py:1036: RuntimeWarning: invalid value encountered in true_divide\n",
      "  return self.params / self.bse\n",
      "C:\\Users\\Neeraj\\Anaconda3\\lib\\site-packages\\scipy\\stats\\_distn_infrastructure.py:879: RuntimeWarning: invalid value encountered in greater\n",
      "  return (self.a < x) & (x < self.b)\n",
      "C:\\Users\\Neeraj\\Anaconda3\\lib\\site-packages\\scipy\\stats\\_distn_infrastructure.py:879: RuntimeWarning: invalid value encountered in less\n",
      "  return (self.a < x) & (x < self.b)\n",
      "C:\\Users\\Neeraj\\Anaconda3\\lib\\site-packages\\scipy\\stats\\_distn_infrastructure.py:1818: RuntimeWarning: invalid value encountered in less_equal\n",
      "  cond2 = cond0 & (x <= self.a)\n"
     ]
    },
    {
     "data": {
      "text/html": [
       "<table class=\"simpletable\">\n",
       "<caption>OLS Regression Results</caption>\n",
       "<tr>\n",
       "  <th>Dep. Variable:</th>            <td>y</td>        <th>  R-squared:         </th> <td>   1.000</td> \n",
       "</tr>\n",
       "<tr>\n",
       "  <th>Model:</th>                   <td>OLS</td>       <th>  Adj. R-squared:    </th> <td>   1.000</td> \n",
       "</tr>\n",
       "<tr>\n",
       "  <th>Method:</th>             <td>Least Squares</td>  <th>  F-statistic:       </th> <td>3.752e+05</td>\n",
       "</tr>\n",
       "<tr>\n",
       "  <th>Date:</th>             <td>Sat, 14 Jul 2018</td> <th>  Prob (F-statistic):</th>  <td>  0.00</td>  \n",
       "</tr>\n",
       "<tr>\n",
       "  <th>Time:</th>                 <td>13:02:42</td>     <th>  Log-Likelihood:    </th> <td>  1254.4</td> \n",
       "</tr>\n",
       "<tr>\n",
       "  <th>No. Observations:</th>      <td>   576</td>      <th>  AIC:               </th> <td>  -2479.</td> \n",
       "</tr>\n",
       "<tr>\n",
       "  <th>Df Residuals:</th>          <td>   561</td>      <th>  BIC:               </th> <td>  -2414.</td> \n",
       "</tr>\n",
       "<tr>\n",
       "  <th>Df Model:</th>              <td>    14</td>      <th>                     </th>     <td> </td>    \n",
       "</tr>\n",
       "<tr>\n",
       "  <th>Covariance Type:</th>      <td>nonrobust</td>    <th>                     </th>     <td> </td>    \n",
       "</tr>\n",
       "</table>\n",
       "<table class=\"simpletable\">\n",
       "<tr>\n",
       "      <td></td>         <th>coef</th>     <th>std err</th>      <th>t</th>      <th>P>|t|</th>  <th>[0.025</th>    <th>0.975]</th>  \n",
       "</tr>\n",
       "<tr>\n",
       "  <th>Intercept</th> <td>-9.057e-08</td> <td> 4.67e-09</td> <td>  -19.413</td> <td> 0.000</td> <td>-9.97e-08</td> <td>-8.14e-08</td>\n",
       "</tr>\n",
       "<tr>\n",
       "  <th>x[0]</th>      <td>    0.5538</td> <td>    0.009</td> <td>   64.894</td> <td> 0.000</td> <td>    0.537</td> <td>    0.571</td>\n",
       "</tr>\n",
       "<tr>\n",
       "  <th>x[1]</th>      <td>   -0.0248</td> <td>    0.041</td> <td>   -0.605</td> <td> 0.546</td> <td>   -0.106</td> <td>    0.056</td>\n",
       "</tr>\n",
       "<tr>\n",
       "  <th>x[2]</th>      <td>    0.0080</td> <td>    0.012</td> <td>    0.654</td> <td> 0.513</td> <td>   -0.016</td> <td>    0.032</td>\n",
       "</tr>\n",
       "<tr>\n",
       "  <th>x[3]</th>      <td>    0.0080</td> <td>    0.012</td> <td>    0.654</td> <td> 0.513</td> <td>   -0.016</td> <td>    0.032</td>\n",
       "</tr>\n",
       "<tr>\n",
       "  <th>x[4]</th>      <td>-7.198e-06</td> <td>    0.003</td> <td>   -0.003</td> <td> 0.998</td> <td>   -0.005</td> <td>    0.005</td>\n",
       "</tr>\n",
       "<tr>\n",
       "  <th>x[5]</th>      <td>   -0.1888</td> <td>    0.105</td> <td>   -1.805</td> <td> 0.072</td> <td>   -0.394</td> <td>    0.017</td>\n",
       "</tr>\n",
       "<tr>\n",
       "  <th>x[6]</th>      <td>    0.3013</td> <td>    0.168</td> <td>    1.793</td> <td> 0.073</td> <td>   -0.029</td> <td>    0.631</td>\n",
       "</tr>\n",
       "<tr>\n",
       "  <th>x[7]</th>      <td>   -0.0648</td> <td>    0.048</td> <td>   -1.353</td> <td> 0.177</td> <td>   -0.159</td> <td>    0.029</td>\n",
       "</tr>\n",
       "<tr>\n",
       "  <th>x[8]</th>      <td>    0.1048</td> <td>    0.077</td> <td>    1.360</td> <td> 0.174</td> <td>   -0.047</td> <td>    0.256</td>\n",
       "</tr>\n",
       "<tr>\n",
       "  <th>x[9]</th>      <td> 3.746e-06</td> <td> 1.94e-05</td> <td>    0.193</td> <td> 0.847</td> <td>-3.43e-05</td> <td> 4.18e-05</td>\n",
       "</tr>\n",
       "<tr>\n",
       "  <th>x[10]</th>     <td>    0.0487</td> <td>    0.041</td> <td>    1.199</td> <td> 0.231</td> <td>   -0.031</td> <td>    0.128</td>\n",
       "</tr>\n",
       "<tr>\n",
       "  <th>x[11]</th>     <td>   -1.6526</td> <td>    1.372</td> <td>   -1.205</td> <td> 0.229</td> <td>   -4.347</td> <td>    1.042</td>\n",
       "</tr>\n",
       "<tr>\n",
       "  <th>x[12]</th>     <td>   -0.0006</td> <td>    0.003</td> <td>   -0.173</td> <td> 0.862</td> <td>   -0.007</td> <td>    0.006</td>\n",
       "</tr>\n",
       "<tr>\n",
       "  <th>x[13]</th>     <td>    0.0006</td> <td>    0.003</td> <td>    0.178</td> <td> 0.859</td> <td>   -0.006</td> <td>    0.007</td>\n",
       "</tr>\n",
       "<tr>\n",
       "  <th>x[14]</th>     <td>    0.0009</td> <td> 4.66e-05</td> <td>   19.413</td> <td> 0.000</td> <td>    0.001</td> <td>    0.001</td>\n",
       "</tr>\n",
       "<tr>\n",
       "  <th>x[15]</th>     <td>    0.0009</td> <td> 4.66e-05</td> <td>   19.413</td> <td> 0.000</td> <td>    0.001</td> <td>    0.001</td>\n",
       "</tr>\n",
       "<tr>\n",
       "  <th>x[16]</th>     <td>         0</td> <td>        0</td> <td>      nan</td> <td>   nan</td> <td>        0</td> <td>        0</td>\n",
       "</tr>\n",
       "<tr>\n",
       "  <th>x[17]</th>     <td>         0</td> <td>        0</td> <td>      nan</td> <td>   nan</td> <td>        0</td> <td>        0</td>\n",
       "</tr>\n",
       "<tr>\n",
       "  <th>x[18]</th>     <td>   -0.0855</td> <td>    0.054</td> <td>   -1.575</td> <td> 0.116</td> <td>   -0.192</td> <td>    0.021</td>\n",
       "</tr>\n",
       "<tr>\n",
       "  <th>x[19]</th>     <td>   -0.0028</td> <td>    0.002</td> <td>   -1.575</td> <td> 0.116</td> <td>   -0.006</td> <td>    0.001</td>\n",
       "</tr>\n",
       "</table>\n",
       "<table class=\"simpletable\">\n",
       "<tr>\n",
       "  <th>Omnibus:</th>       <td>186.053</td> <th>  Durbin-Watson:     </th> <td>   1.792</td>\n",
       "</tr>\n",
       "<tr>\n",
       "  <th>Prob(Omnibus):</th> <td> 0.000</td>  <th>  Jarque-Bera (JB):  </th> <td>  28.422</td>\n",
       "</tr>\n",
       "<tr>\n",
       "  <th>Skew:</th>          <td>-0.017</td>  <th>  Prob(JB):          </th> <td>6.73e-07</td>\n",
       "</tr>\n",
       "<tr>\n",
       "  <th>Kurtosis:</th>      <td> 1.912</td>  <th>  Cond. No.          </th> <td>9.54e+40</td>\n",
       "</tr>\n",
       "</table>"
      ],
      "text/plain": [
       "<class 'statsmodels.iolib.summary.Summary'>\n",
       "\"\"\"\n",
       "                            OLS Regression Results                            \n",
       "==============================================================================\n",
       "Dep. Variable:                      y   R-squared:                       1.000\n",
       "Model:                            OLS   Adj. R-squared:                  1.000\n",
       "Method:                 Least Squares   F-statistic:                 3.752e+05\n",
       "Date:                Sat, 14 Jul 2018   Prob (F-statistic):               0.00\n",
       "Time:                        13:02:42   Log-Likelihood:                 1254.4\n",
       "No. Observations:                 576   AIC:                            -2479.\n",
       "Df Residuals:                     561   BIC:                            -2414.\n",
       "Df Model:                          14                                         \n",
       "Covariance Type:            nonrobust                                         \n",
       "==============================================================================\n",
       "                 coef    std err          t      P>|t|      [0.025      0.975]\n",
       "------------------------------------------------------------------------------\n",
       "Intercept  -9.057e-08   4.67e-09    -19.413      0.000   -9.97e-08   -8.14e-08\n",
       "x[0]           0.5538      0.009     64.894      0.000       0.537       0.571\n",
       "x[1]          -0.0248      0.041     -0.605      0.546      -0.106       0.056\n",
       "x[2]           0.0080      0.012      0.654      0.513      -0.016       0.032\n",
       "x[3]           0.0080      0.012      0.654      0.513      -0.016       0.032\n",
       "x[4]       -7.198e-06      0.003     -0.003      0.998      -0.005       0.005\n",
       "x[5]          -0.1888      0.105     -1.805      0.072      -0.394       0.017\n",
       "x[6]           0.3013      0.168      1.793      0.073      -0.029       0.631\n",
       "x[7]          -0.0648      0.048     -1.353      0.177      -0.159       0.029\n",
       "x[8]           0.1048      0.077      1.360      0.174      -0.047       0.256\n",
       "x[9]        3.746e-06   1.94e-05      0.193      0.847   -3.43e-05    4.18e-05\n",
       "x[10]          0.0487      0.041      1.199      0.231      -0.031       0.128\n",
       "x[11]         -1.6526      1.372     -1.205      0.229      -4.347       1.042\n",
       "x[12]         -0.0006      0.003     -0.173      0.862      -0.007       0.006\n",
       "x[13]          0.0006      0.003      0.178      0.859      -0.006       0.007\n",
       "x[14]          0.0009   4.66e-05     19.413      0.000       0.001       0.001\n",
       "x[15]          0.0009   4.66e-05     19.413      0.000       0.001       0.001\n",
       "x[16]               0          0        nan        nan           0           0\n",
       "x[17]               0          0        nan        nan           0           0\n",
       "x[18]         -0.0855      0.054     -1.575      0.116      -0.192       0.021\n",
       "x[19]         -0.0028      0.002     -1.575      0.116      -0.006       0.001\n",
       "==============================================================================\n",
       "Omnibus:                      186.053   Durbin-Watson:                   1.792\n",
       "Prob(Omnibus):                  0.000   Jarque-Bera (JB):               28.422\n",
       "Skew:                          -0.017   Prob(JB):                     6.73e-07\n",
       "Kurtosis:                       1.912   Cond. No.                     9.54e+40\n",
       "==============================================================================\n",
       "\n",
       "Warnings:\n",
       "[1] Standard Errors assume that the covariance matrix of the errors is correctly specified.\n",
       "[2] The smallest eigenvalue is 1.28e-71. This might indicate that there are\n",
       "strong multicollinearity problems or that the design matrix is singular.\n",
       "\"\"\""
      ]
     },
     "execution_count": 99,
     "metadata": {},
     "output_type": "execute_result"
    }
   ],
   "source": [
    "\n",
    "#to get last 576 measurements and applying feature selection on that.\n",
    "import statsmodels.formula.api as sm\n",
    "\n",
    "df1=df.tail(576)\n",
    "print(df1.shape)\n",
    "y=df1['tempm'] #giving all rows \n",
    "x=df1[['tempi','dewptm','dewpti','dewpti.1','hum','wspdm','wspdi','wgustm','wgusti','wdird','pressurem','pressurei','windchillm', 'windchilli','heatindexm','heatindexi','precip_ratei','precip_ratem','precip_totalm','precip_totali']]\n",
    "#y.tail(576)\n",
    "#x.tail(576)\n",
    "print(y.shape)\n",
    "print(x.shape)\n",
    "result = sm.ols(formula='y~x', data=df1).fit()\n",
    "predictions = result.predict(x).mean()\n",
    "print(result.params)\n",
    "print(\"Predictions\",predictions)\n",
    "result.summary()"
   ]
  },
  {
   "cell_type": "code",
   "execution_count": 134,
   "metadata": {},
   "outputs": [
    {
     "name": "stdout",
     "output_type": "stream",
     "text": [
      "Data_isha\\IABERDEE25_final.csv\n",
      "Data_isha\\ICORNWAL26_final.csv\n",
      "Data_isha\\IDUNFERM18_final.csv\n",
      "Data_isha\\IEDINBUR99_final.csv\n",
      "Data_isha\\IGLASGOW1_final.csv\n",
      "Data_isha\\IHIGHLAN53_final.csv\n",
      "Data_isha\\IISLEOFS4_final.csv\n",
      "Data_isha\\ILONDON542_final.csv\n"
     ]
    }
   ],
   "source": [
    "#code to access all files in a folder given the location of folder.\n",
    "import os\n",
    "#rootdir = 'C:/Users/sid/Desktop/test' \n",
    "rootdir = 'Data_isha'\n",
    "\n",
    "for subdir, dirs, files in os.walk(rootdir):\n",
    "    for file in files:\n",
    "        #print(os.path.join(subdir, file)) to print names of all the csv files\n",
    "        csvread(os.path.join(subdir, file))"
   ]
  },
  {
   "cell_type": "code",
   "execution_count": null,
   "metadata": {
    "collapsed": true
   },
   "outputs": [],
   "source": [
    "#df2 is an array!\n",
    "df2 = x.reset_index().values\n",
    "df2.dtype"
   ]
  },
  {
   "cell_type": "code",
   "execution_count": 35,
   "metadata": {},
   "outputs": [
    {
     "name": "stdout",
     "output_type": "stream",
     "text": [
      "Data_isha\\IABERDEE25_final.csv\n"
     ]
    }
   ],
   "source": [
    "df = csvread('Data_isha\\IABERDEE25_final.csv')\n",
    "\n",
    " #x mese sari values ko threshold k against compare kar k pass karo yahi query hoga   "
   ]
  },
  {
   "cell_type": "code",
   "execution_count": null,
   "metadata": {
    "collapsed": true
   },
   "outputs": [],
   "source": []
  }
 ],
 "metadata": {
  "kernelspec": {
   "display_name": "Python 3",
   "language": "python",
   "name": "python3"
  },
  "language_info": {
   "codemirror_mode": {
    "name": "ipython",
    "version": 3
   },
   "file_extension": ".py",
   "mimetype": "text/x-python",
   "name": "python",
   "nbconvert_exporter": "python",
   "pygments_lexer": "ipython3",
   "version": "3.6.1"
  }
 },
 "nbformat": 4,
 "nbformat_minor": 2
}
