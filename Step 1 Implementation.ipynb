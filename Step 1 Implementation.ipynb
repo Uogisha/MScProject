{
 "cells": [
  {
   "cell_type": "code",
   "execution_count": 3,
   "metadata": {},
   "outputs": [
    {
     "name": "stdout",
     "output_type": "stream",
     "text": [
      "[[array(['09/12;09.33;17'], dtype=object), array(['12/12;08.33;13'], dtype=object)], [array(['03/12;11.33;19'], dtype=object), array(['13/12;09.33;15'], dtype=object)], [array(['05/8;12.33;20'], dtype=object), array(['23/8;10.33;17'], dtype=object)], [array(['06/8;01.33;24'], dtype=object), array(['23/8;12.33;20'], dtype=object)]]\n"
     ]
    }
   ],
   "source": [
    "import numpy as np\n",
    "import pandas as pd\n",
    "\n",
    "# small test data files created \n",
    "data1 = pd.read_csv('test_data\\\\aberdeen.csv')\n",
    "data2 = pd.read_csv('test_data\\london.csv')\n",
    "np.savez('mat.npz',x=data1,y=data2)\n",
    "arrays = np.load('mat.npz')\n",
    "y=[]\n",
    "\n",
    "#loop for going through indexes of rows in files\n",
    "for index in range(4):\n",
    "    x=[]\n",
    "    for arr in l: #this has 2 arrays arr_0 and arr_1 respectively\n",
    "        x.append(arrays[arr][index])\n",
    "    y.append(x) #list y will have list of arrays of first row of all files together then second row of all files and so on\n",
    "\n",
    "print(y)  "
   ]
  },
  {
   "cell_type": "code",
   "execution_count": null,
   "metadata": {
    "collapsed": true
   },
   "outputs": [],
   "source": []
  }
 ],
 "metadata": {
  "kernelspec": {
   "display_name": "Python 3",
   "language": "python",
   "name": "python3"
  },
  "language_info": {
   "codemirror_mode": {
    "name": "ipython",
    "version": 3
   },
   "file_extension": ".py",
   "mimetype": "text/x-python",
   "name": "python",
   "nbconvert_exporter": "python",
   "pygments_lexer": "ipython3",
   "version": "3.6.1"
  }
 },
 "nbformat": 4,
 "nbformat_minor": 2
}
