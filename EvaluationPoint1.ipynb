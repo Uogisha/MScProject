{
 "cells": [
  {
   "cell_type": "markdown",
   "metadata": {},
   "source": [
    "Point 1 of email : At central location; ALL data ONE regression over ALL features"
   ]
  },
  {
   "cell_type": "code",
   "execution_count": 20,
   "metadata": {
    "collapsed": true
   },
   "outputs": [],
   "source": [
    "\n",
    "#code to access all files in a folder given the location of folder.\n",
    "#and concatenating all features(from all files) into one result dataframe\n",
    "import pandas as pd\n",
    "import numpy as np\n",
    "import os\n",
    "#rootdir = 'C:/Users/sid/Desktop/test' \n",
    "\n",
    "class central():\n",
    "    def __init__(self, rootdir):\n",
    "        self.rootdir = rootdir\n",
    "\n",
    "#rootdir = 'Data_isha'\n",
    "    def all_files(self):\n",
    "        #rootdir = rootdir\n",
    "        file_array = []\n",
    "        for subdir, dirs, files in os.walk(self.rootdir):\n",
    "            for file in files:\n",
    "        #print(os.path.join(subdir, file)) to print names of all the csv files\n",
    "                file_array.append(os.path.join(subdir, file))\n",
    "#print(file_array)\n",
    "\n",
    "#files = [f for f in os.listdir('Data_isha') if os.path.isfile(f)]\n",
    "\n",
    "\n",
    "        merged_df = []\n",
    "        for files in file_array:\n",
    "            read_file = pd.read_csv(files)\n",
    "    #dropping columns:\n",
    "            read_file.drop(['Month','Day', 'Date','time_h','time_min', 'Year','dewpti.1', 'heatindexi',\n",
    "                    'tempi','windchillm','windchilli','wspdi', 'heatindexm',\n",
    "                    'wgusti','dewptm','pressurei','time_h', 'time_min','precip_ratei',\n",
    "                       'solarradiation','uv','Station','precip_totali'], axis=1, inplace=True)\n",
    "            merged_df.append(read_file)\n",
    "        result = pd.concat(merged_df)\n",
    "        return result\n",
    "\n",
    "#print(result.columns.values)\n"
   ]
  },
  {
   "cell_type": "markdown",
   "metadata": {},
   "source": [
    "Creating instance of class to act as central location "
   ]
  },
  {
   "cell_type": "code",
   "execution_count": 23,
   "metadata": {
    "collapsed": true
   },
   "outputs": [],
   "source": [
    "v = central('Data_isha')\n",
    "df = v.all_files()"
   ]
  },
  {
   "cell_type": "markdown",
   "metadata": {},
   "source": [
    "Implementing linear regression over 5 random train-test datasets"
   ]
  },
  {
   "cell_type": "code",
   "execution_count": 39,
   "metadata": {},
   "outputs": [
    {
     "name": "stdout",
     "output_type": "stream",
     "text": [
      "Iteration: 1\n",
      "test size 0.1\n",
      "Coefficients: \n",
      " [  5.63199389e-01   4.44949535e-03   1.93484075e-03  -2.34248817e-04\n",
      "   1.25385030e-02   2.37206377e-04  -1.80407263e-01   6.16139166e-04]\n",
      "Mean absolute error: 0.1554886071\n",
      "Mean squared error: 0.14\n",
      "Root Mean squared error: 0.37\n",
      "Variance score: 0.99\n",
      "Iteration: 2\n",
      "test size 0.9\n",
      "Coefficients: \n",
      " [  5.61327075e-01   5.39984705e-03   1.83430776e-03   3.18583259e-04\n",
      "   8.32151946e-03   1.08840973e-03  -1.78131925e-01   3.56489116e-04]\n",
      "Mean absolute error: 0.151213898343\n",
      "Mean squared error: 0.14\n",
      "Root Mean squared error: 0.37\n",
      "Variance score: 0.99\n",
      "Iteration: 3\n",
      "test size 0.8\n",
      "Coefficients: \n",
      " [  5.64066446e-01   5.17809297e-03   2.01841061e-03  -7.73783229e-04\n",
      "   1.24351092e-02   4.03537761e-04  -1.81560682e-01   3.33882654e-04]\n",
      "Mean absolute error: 0.158664262825\n",
      "Mean squared error: 0.14\n",
      "Root Mean squared error: 0.37\n",
      "Variance score: 0.99\n",
      "Iteration: 4\n",
      "test size 0.3\n",
      "Coefficients: \n",
      " [  5.63536313e-01   4.59917833e-03   2.07096234e-03  -4.89378938e-04\n",
      "   1.25371072e-02   2.60236761e-04  -1.80829718e-01   6.38846785e-04]\n",
      "Mean absolute error: 0.15741664278\n",
      "Mean squared error: 0.15\n",
      "Root Mean squared error: 0.39\n",
      "Variance score: 0.99\n",
      "Iteration: 5\n",
      "test size 0.6\n",
      "Coefficients: \n",
      " [  5.63734755e-01   4.83371888e-03   2.13832632e-03  -6.97329329e-04\n",
      "   1.41614996e-02   3.04541432e-04  -1.81248147e-01   5.49821175e-04]\n",
      "Mean absolute error: 0.158015244063\n",
      "Mean squared error: 0.14\n",
      "Root Mean squared error: 0.38\n",
      "Variance score: 0.99\n"
     ]
    }
   ],
   "source": [
    "from sklearn.model_selection import train_test_split\n",
    "from sklearn import datasets, linear_model\n",
    "from sklearn.metrics import mean_squared_error, r2_score, mean_absolute_error\n",
    "from math import sqrt\n",
    "from sklearn.preprocessing import LabelEncoder\n",
    "import statsmodels.formula.api as sm\n",
    "import random\n",
    "\n",
    "encoder = LabelEncoder()\n",
    "df['wdire'] = encoder.fit_transform(df['wdire'])\n",
    "X = df[['dewpti', 'precip_totalm', 'wspdm','wgustm','precip_ratem','pressurem','hum','wdire']]\n",
    "y = df['tempm']\n",
    "\n",
    "\n",
    "c=np.arange(0.1, 1.0, 0.1)\n",
    "a = random.sample(list(c), 6)\n",
    "for i in range(1,6):\n",
    "    print(\"Iteration:\",i)\n",
    "    #X = df1\n",
    "    #y = result['tempm'] #commented to see results from above code\n",
    "    #ran = round(random.uniform(0,0.9), 1)\n",
    "    #print(\"random number\", ran)\n",
    "    print(\"test size\",a[i])\n",
    "    X_train, X_test, y_train, y_test = train_test_split(X, y, test_size=a[i], random_state=42)\n",
    "\n",
    "# Create linear regression object\n",
    "    regr = linear_model.LinearRegression()\n",
    "\n",
    "# Train the model using the training sets\n",
    "    regr.fit(X_train, y_train)\n",
    "\n",
    "# Make predictions using the testing set\n",
    "    y_pred = regr.predict(X_test)\n",
    "\n",
    "\n",
    "# The coefficients\n",
    "    print('Coefficients: \\n', regr.coef_)\n",
    "    print(\"Mean absolute error:\", mean_absolute_error(y_test, y_pred)\n",
    " )\n",
    "# The mean squared error\n",
    "    print(\"Mean squared error: %.2f\"\n",
    "      % mean_squared_error(y_test,y_pred))\n",
    "\n",
    "    print(\"Root Mean squared error: %.2f\"\n",
    "      % sqrt(mean_squared_error(y_test,y_pred)))\n",
    "\n",
    "# Explained variance score: 1 is perfect prediction\n",
    "    print('Variance score: %.2f' % r2_score(y_test, y_pred))\n",
    "\n"
   ]
  }
 ],
 "metadata": {
  "kernelspec": {
   "display_name": "Python 2",
   "language": "python",
   "name": "python2"
  },
  "language_info": {
   "codemirror_mode": {
    "name": "ipython",
    "version": 2
   },
   "file_extension": ".py",
   "mimetype": "text/x-python",
   "name": "python",
   "nbconvert_exporter": "python",
   "pygments_lexer": "ipython2",
   "version": "2.7.13"
  }
 },
 "nbformat": 4,
 "nbformat_minor": 2
}
