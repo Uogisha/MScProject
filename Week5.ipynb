{
 "cells": [
  {
   "cell_type": "code",
   "execution_count": 1,
   "metadata": {},
   "outputs": [
    {
     "name": "stdout",
     "output_type": "stream",
     "text": [
      "['Data_isha\\\\IABERDEE25_final.csv', 'Data_isha\\\\ICORNWAL26_final.csv', 'Data_isha\\\\IDUNFERM18_final.csv', 'Data_isha\\\\IEDINBUR99_final.csv', 'Data_isha\\\\IGLASGOW1_final.csv', 'Data_isha\\\\IHIGHLAN53_final.csv', 'Data_isha\\\\IISLEOFS4_final.csv', 'Data_isha\\\\ILONDON542_final.csv']\n",
      "['Unnamed: 0' 'tempm' 'dewptm' 'hum' 'wspdm' 'wgustm' 'wdird' 'pressurem'\n",
      " 'precip_ratem' 'precip_totalm' 'Time']\n"
     ]
    }
   ],
   "source": [
    "\n",
    "#code to access all files in a folder given the location of folder.\n",
    "#and concatenating all features(from all files) into one result dataframe\n",
    "import pandas as pd\n",
    "import numpy as np\n",
    "import os\n",
    "#rootdir = 'C:/Users/sid/Desktop/test' \n",
    "rootdir = 'Data_isha'\n",
    "file_array = []\n",
    "for subdir, dirs, files in os.walk(rootdir):\n",
    "    for file in files:\n",
    "        #print(os.path.join(subdir, file)) to print names of all the csv files\n",
    "        file_array.append(os.path.join(subdir, file))\n",
    "print(file_array)\n",
    "\n",
    "#files = [f for f in os.listdir('Data_isha') if os.path.isfile(f)]\n",
    "\n",
    "\n",
    "merged_df = []\n",
    "for files in file_array:\n",
    "    read_file = pd.read_csv(files)\n",
    "    #dropping columns:\n",
    "    read_file.drop(['Month','Day', 'Date', 'Year','dewpti','dewpti.1', 'heatindexi',\n",
    "                    'tempi','windchillm','windchilli','wspdi', 'heatindexm',\n",
    "                    'wgusti','wdire','pressurei','time_h', 'time_min','precip_ratei',\n",
    "                    'wdire', 'solarradiation','uv','Station','precip_totali'], axis=1, inplace=True)\n",
    "    merged_df.append(read_file)\n",
    "result = pd.concat(merged_df)\n",
    "\n",
    "print(result.columns.values)\n"
   ]
  },
  {
   "cell_type": "code",
   "execution_count": 69,
   "metadata": {},
   "outputs": [
    {
     "name": "stdout",
     "output_type": "stream",
     "text": [
      "Intercept    17.451640\n",
      "x1            1.012958\n",
      "x2           -0.180408\n",
      "x3            0.002354\n",
      "x4           -0.000528\n",
      "x5            0.000187\n",
      "x6            0.000229\n",
      "x7            0.013657\n",
      "x8            0.004173\n",
      "dtype: float64\n"
     ]
    }
   ],
   "source": [
    "#step 1 from mail : one regression over all data over all features!-\n",
    "y = result['tempm']\n",
    "x1 = result['dewptm']\n",
    "x2 = result['hum']\n",
    "x3 = result['wspdm']\n",
    "x4 = result['wgustm']\n",
    "x5 = result['wdird']\n",
    "x6 = result['pressurem']\n",
    "x7 = result['precip_ratem']\n",
    "x8 = result['precip_totalm']\n",
    "\n",
    "\n",
    "reg_result = sm.ols(formula=\"y ~ x1 + x2 + x3 + x4 + x5 + x6 + x7 + x8\", data=result).fit()\n",
    "print(reg_result.params)"
   ]
  },
  {
   "cell_type": "code",
   "execution_count": 2,
   "metadata": {
    "collapsed": true
   },
   "outputs": [],
   "source": [
    "#function to access just one file for the time being\n",
    "import pandas as pd\n",
    "import numpy as np\n",
    "\n",
    "def file_read(file):\n",
    "    for rows in file:\n",
    "        y = pd.read_csv(file)\n",
    "        return y\n",
    "    "
   ]
  },
  {
   "cell_type": "code",
   "execution_count": 3,
   "metadata": {
    "collapsed": true
   },
   "outputs": [],
   "source": [
    "df = file_read(\"Data_isha\\\\IABERDEE25_final.csv\")\n"
   ]
  },
  {
   "cell_type": "code",
   "execution_count": 10,
   "metadata": {},
   "outputs": [
    {
     "name": "stdout",
     "output_type": "stream",
     "text": [
      "9\n",
      "[26.421421991859916, 0.97021166036560824, -0.18057139674413894, -0.0024112643611738371, 0.0040878724040659675, 0.00049566321748589228, -0.0088147778353849637, 0.0, 0.0081287469298900739]\n"
     ]
    }
   ],
   "source": [
    "#Step 2 : Sliding window of 576 measurements over ALL features\n",
    "\n",
    "import statsmodels.formula.api as sm\n",
    "import collections\n",
    "\n",
    "x1 = 'dewptm'\n",
    "x2 = 'hum'\n",
    "x3 = 'wspdm'\n",
    "x4 = 'wgustm'\n",
    "x5 = 'wdird'\n",
    "x6 = 'pressurem'\n",
    "x7 = 'precip_ratem'\n",
    "x8 = 'precip_totalm'\n",
    "y = 'tempm'\n",
    "\n",
    "sliding_window_values_sens = collections.deque(maxlen=576)\n",
    "        #iterate over each row of the dataset as individual measurement\n",
    "for line in df.itertuples():\n",
    "    \n",
    "            #extracting the values needed\n",
    "    values=[getattr(line,x1),getattr(line,x2),getattr(line,x3),getattr(line,x4),getattr(line,x5),getattr(line,x6),getattr(line,x7),getattr(line,x8),getattr(line,y)]  #extracting the values needed\n",
    "            #appending window\n",
    "    sliding_window_values_sens.append(values)\n",
    "    data = list(sliding_window_values_sens)\n",
    "    window_data=pd.DataFrame(data)\n",
    "    window_data.columns= [x1,x2,x3,x4,x5,x6,x7,x8,y]\n",
    "    query = \"window_data['tempm'] ~ window_data[x1] + window_data[x2] + window_data[x3] + window_data[x4] + window_data[x5] + window_data[x6] + window_data[x7] + window_data[x8]\" #+x3+x4+x5+x6+x7+x8\n",
    "    \n",
    "    result = sm.ols(formula=query, data=window_data).fit()\n",
    "    param_sensor=list(result.params)\n",
    "\n",
    "print(len(param_sensor))\n",
    "print(param_sensor)\n"
   ]
  },
  {
   "cell_type": "code",
   "execution_count": null,
   "metadata": {
    "collapsed": true
   },
   "outputs": [],
   "source": []
  }
 ],
 "metadata": {
  "kernelspec": {
   "display_name": "Python 3",
   "language": "python",
   "name": "python3"
  },
  "language_info": {
   "codemirror_mode": {
    "name": "ipython",
    "version": 3
   },
   "file_extension": ".py",
   "mimetype": "text/x-python",
   "name": "python",
   "nbconvert_exporter": "python",
   "pygments_lexer": "ipython3",
   "version": "3.6.1"
  }
 },
 "nbformat": 4,
 "nbformat_minor": 2
}
