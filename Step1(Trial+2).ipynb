{
 "cells": [
  {
   "cell_type": "code",
   "execution_count": 2,
   "metadata": {},
   "outputs": [
    {
     "name": "stdout",
     "output_type": "stream",
     "text": [
      "['Data_isha\\\\IABERDEE25_final.csv', 'Data_isha\\\\ICORNWAL26_final.csv', 'Data_isha\\\\IDUNFERM18_final.csv', 'Data_isha\\\\IEDINBUR99_final.csv', 'Data_isha\\\\IGLASGOW1_final.csv', 'Data_isha\\\\IHIGHLAN53_final.csv', 'Data_isha\\\\IISLEOFS4_final.csv', 'Data_isha\\\\ILONDON542_final.csv']\n"
     ]
    }
   ],
   "source": [
    "#code to access all files in a folder given the location of folder.\n",
    "import os\n",
    "#rootdir = 'C:/Users/sid/Desktop/test' \n",
    "rootdir = 'Data_isha'\n",
    "file_array = []\n",
    "for subdir, dirs, files in os.walk(rootdir):\n",
    "    for file in files:\n",
    "        #print(os.path.join(subdir, file)) to print names of all the csv files\n",
    "        file_array.append(os.path.join(subdir, file))\n",
    "print(file_array)"
   ]
  },
  {
   "cell_type": "code",
   "execution_count": 3,
   "metadata": {
    "collapsed": true
   },
   "outputs": [],
   "source": [
    "import pandas as pd\n",
    "import numpy as np\n",
    "\n",
    "def file_read(file):\n",
    "    for rows in file:\n",
    "        y = pd.read_csv(file)\n",
    "        return y\n",
    "    "
   ]
  },
  {
   "cell_type": "code",
   "execution_count": 4,
   "metadata": {
    "collapsed": true
   },
   "outputs": [],
   "source": [
    "df = file_read(\"Data_isha\\\\IABERDEE25_final.csv\")\n"
   ]
  },
  {
   "cell_type": "code",
   "execution_count": null,
   "metadata": {
    "collapsed": true
   },
   "outputs": [],
   "source": [
    "#for accessing all data (all dimensions in a file)\n",
    "import statsmodels.formula.api as sm\n",
    "import collections\n",
    "\n",
    "x1 = 'dewptm'\n",
    "x2 = 'hum'\n",
    "x3 = 'wspdm'\n",
    "x4 = 'wgustm'\n",
    "x5 = 'wdird'\n",
    "x6 = 'pressurem'\n",
    "x7 = 'precip_ratem'\n",
    "x8 = 'precip_totalm'\n",
    "y = 'tempm'\n",
    "\n",
    "loaded_data = df\n",
    "        #iterate over each row of the dataset as individual measurement\n",
    "list_of_rows = []\n",
    "for line in loaded_data.itertuples():\n",
    "    \n",
    "            #extracting the values needed\n",
    "    values=[getattr(line,x1),getattr(line,x2),getattr(line,x3),getattr(line,x4),getattr(line,x5),getattr(line,x6),getattr(line,x7),getattr(line,x8),getattr(line,y)]\n",
    "            #appending window\n",
    "    list_of_rows.append(values)\n",
    "data = list(list_of_rows)\n",
    "new_dataframe=pd.DataFrame(data)\n",
    "new_dataframe.columns= [x1,x2,x3,x4,x5,x6,x7,x8,y]\n",
    "    \n",
    "    \n"
   ]
  },
  {
   "cell_type": "code",
   "execution_count": 35,
   "metadata": {},
   "outputs": [
    {
     "name": "stdout",
     "output_type": "stream",
     "text": [
      "-2.3\n"
     ]
    },
    {
     "ename": "PatsyError",
     "evalue": "Number of rows mismatch between data argument and values[2] (576 versus 1)\n    values[2]~values[0]+values[1]\n    ^^^^^^^^^",
     "output_type": "error",
     "traceback": [
      "\u001b[1;31m---------------------------------------------------------------------------\u001b[0m",
      "\u001b[1;31mPatsyError\u001b[0m                                Traceback (most recent call last)",
      "\u001b[1;32m<ipython-input-35-f147ba98b446>\u001b[0m in \u001b[0;36m<module>\u001b[1;34m()\u001b[0m\n\u001b[0;32m     32\u001b[0m \u001b[0mquery\u001b[0m \u001b[1;33m=\u001b[0m \u001b[1;34m\"values[2]~values[0]+values[1]\"\u001b[0m \u001b[1;31m#+x3+x4+x5+x6+x7+x8\u001b[0m\u001b[1;33m\u001b[0m\u001b[0m\n\u001b[0;32m     33\u001b[0m \u001b[1;33m\u001b[0m\u001b[0m\n\u001b[1;32m---> 34\u001b[1;33m \u001b[0mresult\u001b[0m \u001b[1;33m=\u001b[0m \u001b[0msm\u001b[0m\u001b[1;33m.\u001b[0m\u001b[0mols\u001b[0m\u001b[1;33m(\u001b[0m\u001b[0mformula\u001b[0m\u001b[1;33m=\u001b[0m\u001b[0mquery\u001b[0m\u001b[1;33m,\u001b[0m \u001b[0mdata\u001b[0m\u001b[1;33m=\u001b[0m\u001b[0mwindow_data\u001b[0m\u001b[1;33m)\u001b[0m\u001b[1;33m.\u001b[0m\u001b[0mfit\u001b[0m\u001b[1;33m(\u001b[0m\u001b[1;33m)\u001b[0m\u001b[1;33m\u001b[0m\u001b[0m\n\u001b[0m\u001b[0;32m     35\u001b[0m             \u001b[1;31m#model parameters\u001b[0m\u001b[1;33m\u001b[0m\u001b[1;33m\u001b[0m\u001b[0m\n\u001b[0;32m     36\u001b[0m   \u001b[1;31m#  param_sensor=list(result.params)\u001b[0m\u001b[1;33m\u001b[0m\u001b[1;33m\u001b[0m\u001b[0m\n",
      "\u001b[1;32mC:\\Users\\Neeraj\\Anaconda3\\lib\\site-packages\\statsmodels\\base\\model.py\u001b[0m in \u001b[0;36mfrom_formula\u001b[1;34m(cls, formula, data, subset, drop_cols, *args, **kwargs)\u001b[0m\n\u001b[0;32m    153\u001b[0m \u001b[1;33m\u001b[0m\u001b[0m\n\u001b[0;32m    154\u001b[0m         tmp = handle_formula_data(data, None, formula, depth=eval_env,\n\u001b[1;32m--> 155\u001b[1;33m                                   missing=missing)\n\u001b[0m\u001b[0;32m    156\u001b[0m         \u001b[1;33m(\u001b[0m\u001b[1;33m(\u001b[0m\u001b[0mendog\u001b[0m\u001b[1;33m,\u001b[0m \u001b[0mexog\u001b[0m\u001b[1;33m)\u001b[0m\u001b[1;33m,\u001b[0m \u001b[0mmissing_idx\u001b[0m\u001b[1;33m,\u001b[0m \u001b[0mdesign_info\u001b[0m\u001b[1;33m)\u001b[0m \u001b[1;33m=\u001b[0m \u001b[0mtmp\u001b[0m\u001b[1;33m\u001b[0m\u001b[0m\n\u001b[0;32m    157\u001b[0m \u001b[1;33m\u001b[0m\u001b[0m\n",
      "\u001b[1;32mC:\\Users\\Neeraj\\Anaconda3\\lib\\site-packages\\statsmodels\\formula\\formulatools.py\u001b[0m in \u001b[0;36mhandle_formula_data\u001b[1;34m(Y, X, formula, depth, missing)\u001b[0m\n\u001b[0;32m     63\u001b[0m         \u001b[1;32mif\u001b[0m \u001b[0mdata_util\u001b[0m\u001b[1;33m.\u001b[0m\u001b[0m_is_using_pandas\u001b[0m\u001b[1;33m(\u001b[0m\u001b[0mY\u001b[0m\u001b[1;33m,\u001b[0m \u001b[1;32mNone\u001b[0m\u001b[1;33m)\u001b[0m\u001b[1;33m:\u001b[0m\u001b[1;33m\u001b[0m\u001b[0m\n\u001b[0;32m     64\u001b[0m             result = dmatrices(formula, Y, depth, return_type='dataframe',\n\u001b[1;32m---> 65\u001b[1;33m                                NA_action=na_action)\n\u001b[0m\u001b[0;32m     66\u001b[0m         \u001b[1;32melse\u001b[0m\u001b[1;33m:\u001b[0m\u001b[1;33m\u001b[0m\u001b[0m\n\u001b[0;32m     67\u001b[0m             result = dmatrices(formula, Y, depth, return_type='dataframe',\n",
      "\u001b[1;32mC:\\Users\\Neeraj\\Anaconda3\\lib\\site-packages\\patsy\\highlevel.py\u001b[0m in \u001b[0;36mdmatrices\u001b[1;34m(formula_like, data, eval_env, NA_action, return_type)\u001b[0m\n\u001b[0;32m    308\u001b[0m     \u001b[0meval_env\u001b[0m \u001b[1;33m=\u001b[0m \u001b[0mEvalEnvironment\u001b[0m\u001b[1;33m.\u001b[0m\u001b[0mcapture\u001b[0m\u001b[1;33m(\u001b[0m\u001b[0meval_env\u001b[0m\u001b[1;33m,\u001b[0m \u001b[0mreference\u001b[0m\u001b[1;33m=\u001b[0m\u001b[1;36m1\u001b[0m\u001b[1;33m)\u001b[0m\u001b[1;33m\u001b[0m\u001b[0m\n\u001b[0;32m    309\u001b[0m     (lhs, rhs) = _do_highlevel_design(formula_like, data, eval_env,\n\u001b[1;32m--> 310\u001b[1;33m                                       NA_action, return_type)\n\u001b[0m\u001b[0;32m    311\u001b[0m     \u001b[1;32mif\u001b[0m \u001b[0mlhs\u001b[0m\u001b[1;33m.\u001b[0m\u001b[0mshape\u001b[0m\u001b[1;33m[\u001b[0m\u001b[1;36m1\u001b[0m\u001b[1;33m]\u001b[0m \u001b[1;33m==\u001b[0m \u001b[1;36m0\u001b[0m\u001b[1;33m:\u001b[0m\u001b[1;33m\u001b[0m\u001b[0m\n\u001b[0;32m    312\u001b[0m         \u001b[1;32mraise\u001b[0m \u001b[0mPatsyError\u001b[0m\u001b[1;33m(\u001b[0m\u001b[1;34m\"model is missing required outcome variables\"\u001b[0m\u001b[1;33m)\u001b[0m\u001b[1;33m\u001b[0m\u001b[0m\n",
      "\u001b[1;32mC:\\Users\\Neeraj\\Anaconda3\\lib\\site-packages\\patsy\\highlevel.py\u001b[0m in \u001b[0;36m_do_highlevel_design\u001b[1;34m(formula_like, data, eval_env, NA_action, return_type)\u001b[0m\n\u001b[0;32m    167\u001b[0m         return build_design_matrices(design_infos, data,\n\u001b[0;32m    168\u001b[0m                                      \u001b[0mNA_action\u001b[0m\u001b[1;33m=\u001b[0m\u001b[0mNA_action\u001b[0m\u001b[1;33m,\u001b[0m\u001b[1;33m\u001b[0m\u001b[0m\n\u001b[1;32m--> 169\u001b[1;33m                                      return_type=return_type)\n\u001b[0m\u001b[0;32m    170\u001b[0m     \u001b[1;32melse\u001b[0m\u001b[1;33m:\u001b[0m\u001b[1;33m\u001b[0m\u001b[0m\n\u001b[0;32m    171\u001b[0m         \u001b[1;31m# No builders, but maybe we can still get matrices\u001b[0m\u001b[1;33m\u001b[0m\u001b[1;33m\u001b[0m\u001b[0m\n",
      "\u001b[1;32mC:\\Users\\Neeraj\\Anaconda3\\lib\\site-packages\\patsy\\build.py\u001b[0m in \u001b[0;36mbuild_design_matrices\u001b[1;34m(design_infos, data, NA_action, return_type, dtype)\u001b[0m\n\u001b[0;32m    891\u001b[0m                 \u001b[0mname\u001b[0m \u001b[1;33m=\u001b[0m \u001b[0mfactor_info\u001b[0m\u001b[1;33m.\u001b[0m\u001b[0mfactor\u001b[0m\u001b[1;33m.\u001b[0m\u001b[0mname\u001b[0m\u001b[1;33m(\u001b[0m\u001b[1;33m)\u001b[0m\u001b[1;33m\u001b[0m\u001b[0m\n\u001b[0;32m    892\u001b[0m                 \u001b[0morigin\u001b[0m \u001b[1;33m=\u001b[0m \u001b[0mfactor_info\u001b[0m\u001b[1;33m.\u001b[0m\u001b[0mfactor\u001b[0m\u001b[1;33m.\u001b[0m\u001b[0morigin\u001b[0m\u001b[1;33m\u001b[0m\u001b[0m\n\u001b[1;32m--> 893\u001b[1;33m                 \u001b[0mrows_checker\u001b[0m\u001b[1;33m.\u001b[0m\u001b[0mcheck\u001b[0m\u001b[1;33m(\u001b[0m\u001b[0mvalue\u001b[0m\u001b[1;33m.\u001b[0m\u001b[0mshape\u001b[0m\u001b[1;33m[\u001b[0m\u001b[1;36m0\u001b[0m\u001b[1;33m]\u001b[0m\u001b[1;33m,\u001b[0m \u001b[0mname\u001b[0m\u001b[1;33m,\u001b[0m \u001b[0morigin\u001b[0m\u001b[1;33m)\u001b[0m\u001b[1;33m\u001b[0m\u001b[0m\n\u001b[0m\u001b[0;32m    894\u001b[0m                 if (have_pandas\n\u001b[0;32m    895\u001b[0m                     and isinstance(value, (pandas.Series, pandas.DataFrame))):\n",
      "\u001b[1;32mC:\\Users\\Neeraj\\Anaconda3\\lib\\site-packages\\patsy\\build.py\u001b[0m in \u001b[0;36mcheck\u001b[1;34m(self, seen_value, desc, origin)\u001b[0m\n\u001b[0;32m    793\u001b[0m                 \u001b[1;31m# XX FIXME: this is a case where having discontiguous Origins\u001b[0m\u001b[1;33m\u001b[0m\u001b[1;33m\u001b[0m\u001b[0m\n\u001b[0;32m    794\u001b[0m                 \u001b[1;31m# would be useful...\u001b[0m\u001b[1;33m\u001b[0m\u001b[1;33m\u001b[0m\u001b[0m\n\u001b[1;32m--> 795\u001b[1;33m                 \u001b[1;32mraise\u001b[0m \u001b[0mPatsyError\u001b[0m\u001b[1;33m(\u001b[0m\u001b[0mmsg\u001b[0m\u001b[1;33m,\u001b[0m \u001b[0morigin\u001b[0m\u001b[1;33m)\u001b[0m\u001b[1;33m\u001b[0m\u001b[0m\n\u001b[0m\u001b[0;32m    796\u001b[0m \u001b[1;33m\u001b[0m\u001b[0m\n\u001b[0;32m    797\u001b[0m def build_design_matrices(design_infos, data,\n",
      "\u001b[1;31mPatsyError\u001b[0m: Number of rows mismatch between data argument and values[2] (576 versus 1)\n    values[2]~values[0]+values[1]\n    ^^^^^^^^^"
     ]
    }
   ],
   "source": [
    "import statsmodels.formula.api as sm\n",
    "import collections\n",
    "\n",
    "loaded_data = df\n",
    "\n",
    "sliding_window_values_sens = collections.deque(maxlen=576)\n",
    "        #iterate over each row of the dataset as individual measurement\n",
    "x1 = 'dewptm'\n",
    "x2 = 'hum'\n",
    "x3 = 'wspdm'\n",
    "x4 = 'wgustm'\n",
    "x5 = 'wdird'\n",
    "x6 = 'pressurem'\n",
    "x7 = 'precip_ratem'\n",
    "x8 = 'precip_totalm'\n",
    "y = 'tempm'\n",
    "for line in df.itertuples():\n",
    "    #list of values\n",
    "    #print(getattr(line,x1))\n",
    "    values=[getattr(line,x1),getattr(line,x3),getattr(line,y)]\n",
    "    sliding_window_values_sens.append(values)\n",
    "    #print(values)\n",
    "   # values=[getattr(line,x1),getattr(line,x2),getattr(line,x3),getattr(line,x4),getattr(line,x5),getattr(line,x6),getattr(line,x7),getattr(line,x8),getattr(line,y)]  #extracting the values needed\n",
    "    #appending window\n",
    "    \n",
    "data = list(sliding_window_values_sens)\n",
    "window_data=pd.DataFrame(data)\n",
    "window_data.columns= [x1,x2,y] #x3,x4,x5,x6,x7,x8,\n",
    "    #print(window_data)\n",
    "print(values[0])\n",
    "\n",
    "query = \"values[2]~values[0]+values[1]\" #+x3+x4+x5+x6+x7+x8\n",
    "    \n",
    "result = sm.ols(formula=query, data=window_data).fit()\n",
    "            #model parameters\n",
    "  #  param_sensor=list(result.params)"
   ]
  },
  {
   "cell_type": "code",
   "execution_count": 8,
   "metadata": {},
   "outputs": [
    {
     "name": "stdout",
     "output_type": "stream",
     "text": [
      "9\n"
     ]
    }
   ],
   "source": [
    "import statsmodels.formula.api as sm\n",
    "import collections\n",
    "\n",
    "x1 = 'dewptm'\n",
    "x2 = 'hum'\n",
    "x3 = 'wspdm'\n",
    "x4 = 'wgustm'\n",
    "x5 = 'wdird'\n",
    "x6 = 'pressurem'\n",
    "x7 = 'precip_ratem'\n",
    "x8 = 'precip_totalm'\n",
    "y = 'tempm'\n",
    "\n",
    "loaded_data = df\n",
    "sliding_window_values_sens = collections.deque(maxlen=576)\n",
    "        #iterate over each row of the dataset as individual measurement\n",
    "for line in loaded_data.itertuples():\n",
    "    \n",
    "            #extracting the values needed\n",
    "    values=[getattr(line,x1),getattr(line,x2),getattr(line,x3),getattr(line,x4),getattr(line,x5),getattr(line,x6),getattr(line,x7),getattr(line,x8),getattr(line,y)]\n",
    "            #appending window\n",
    "    sliding_window_values_sens.append(values)\n",
    "    data = list(sliding_window_values_sens)\n",
    "    window_data=pd.DataFrame(data)\n",
    "    window_data.columns= [x1,x2,x3,x4,x5,x6,x7,x8,y]\n",
    "    query = \"window_data[y] ~ window_data[x1] + window_data[x2] + window_data[x3] + window_data[x4] + window_data[x5] + window_data[x6] + window_data[x7] + window_data[x8]\" #+x3+x4+x5+x6+x7+x8\n",
    "    \n",
    "    result = sm.ols(formula=query, data=window_data).fit()\n",
    "    param_sensor=list(result.params)\n",
    "\n",
    "print(len(param_sensor))\n"
   ]
  },
  {
   "cell_type": "code",
   "execution_count": null,
   "metadata": {
    "collapsed": true
   },
   "outputs": [],
   "source": []
  },
  {
   "cell_type": "code",
   "execution_count": null,
   "metadata": {
    "collapsed": true
   },
   "outputs": [],
   "source": []
  }
 ],
 "metadata": {
  "kernelspec": {
   "display_name": "Python 3",
   "language": "python",
   "name": "python3"
  },
  "language_info": {
   "codemirror_mode": {
    "name": "ipython",
    "version": 3
   },
   "file_extension": ".py",
   "mimetype": "text/x-python",
   "name": "python",
   "nbconvert_exporter": "python",
   "pygments_lexer": "ipython3",
   "version": "3.6.1"
  }
 },
 "nbformat": 4,
 "nbformat_minor": 2
}
